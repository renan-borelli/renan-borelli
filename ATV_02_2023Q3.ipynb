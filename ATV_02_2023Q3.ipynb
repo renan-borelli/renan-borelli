{
  "nbformat": 4,
  "nbformat_minor": 0,
  "metadata": {
    "colab": {
      "provenance": [],
      "include_colab_link": true
    },
    "kernelspec": {
      "name": "python3",
      "display_name": "Python 3"
    }
  },
  "cells": [
    {
      "cell_type": "markdown",
      "metadata": {
        "id": "view-in-github",
        "colab_type": "text"
      },
      "source": [
        "<a href=\"https://colab.research.google.com/github/renan-borelli/renan-borelli/blob/main/ATV_02_2023Q3.ipynb\" target=\"_parent\"><img src=\"https://colab.research.google.com/assets/colab-badge.svg\" alt=\"Open In Colab\"/></a>"
      ]
    },
    {
      "cell_type": "markdown",
      "metadata": {
        "id": "Y6QILOdpOjwv"
      },
      "source": [
        "# **Processamento de Linguagem Natural [2023.Q3]**\n",
        "Prof. Alexandre Donizeti Alves"
      ]
    },
    {
      "cell_type": "markdown",
      "metadata": {
        "id": "8m67OOx9MX_3"
      },
      "source": [
        "### **ATIVIDADE PRÁTICA 02 [Extração e Pré-processamento de Dados + Expressões Regulares]**\n"
      ]
    },
    {
      "cell_type": "markdown",
      "metadata": {
        "id": "5Gk0nHKabBT-"
      },
      "source": [
        "A **ATIVIDADE PRÁTICA 02** deve ser feita utilizando o **Google Colab** com uma conta\n",
        "sua vinculada ao Gmail. O link do seu notebook, armazenado no Google Drive, além do link de um repositório no GitHub e os principais resultados da atividade, devem ser enviados usando o seguinte formulário:\n",
        "\n",
        "> https://forms.gle/83JggUJ1mhgWviEaA\n",
        "\n",
        "\n",
        "**IMPORTANTE**: A submissão deve ser feita até o dia 16/10 (segunda-feira) APENAS POR UM INTEGRANTE DA EQUIPE, até às 23h59. Por favor, lembre-se de dar permissão de ACESSO IRRESTRITO para o professor da disciplina de PLN."
      ]
    },
    {
      "cell_type": "markdown",
      "metadata": {
        "id": "D7hJlilKM485"
      },
      "source": [
        "### **EQUIPE**\n",
        "\n",
        "---"
      ]
    },
    {
      "cell_type": "markdown",
      "source": [
        "**POR FAVOR, PREENCHER OS INTEGRANDES DA SUA EQUIPE:**\n",
        "\n",
        "\n",
        "**Integrante 01:**\n",
        "\n",
        "Renan Borelli Andrade - 11201921098\n",
        "\n",
        "**Integrante 02:**\n",
        "\n",
        "Lucas Cardoso de Carvalho - 11202021207"
      ],
      "metadata": {
        "id": "tnIArN0QY-Ek"
      }
    },
    {
      "cell_type": "markdown",
      "source": [
        "### **LIVRO**\n",
        "---"
      ],
      "metadata": {
        "id": "6yExhaebs-nD"
      }
    },
    {
      "cell_type": "markdown",
      "source": [
        "`Processamento de Linguagem Natural - Conceitos, Técnicas e Aplicações em Português.`\n",
        "\n",
        ">\n",
        "\n",
        "Disponível gratuitamente em:\n",
        "  \n",
        "  > https://brasileiraspln.com/livro-pln/1a-edicao/.\n",
        "\n",
        "\n",
        "**POR FAVOR, PREENCHER OS CAPITULOS SELECIONADOS PARA A SUA EQUIPE:**\n",
        "\n",
        "`Primeiro capítulo: 3\n",
        "\n",
        "`Segundo capítulo: 23\n",
        "\n"
      ],
      "metadata": {
        "id": "DjJM_qhEZRy6"
      }
    },
    {
      "cell_type": "markdown",
      "metadata": {
        "id": "EtjgWQRzNphL"
      },
      "source": [
        "### **DESCRIÇÃO**\n",
        "---"
      ]
    },
    {
      "cell_type": "markdown",
      "source": [
        "Implementar um `notebook` no `Google Colab` para identificar ERROS em 2 (DOIS) capítulos do livro **Processamento de Linguagem Natural - Conceitos, Técnicas e Aplicações em Português**.\n",
        "\n",
        "Os capítulos devem ser selecionados na seguinte planilha:\n",
        "\n",
        "https://docs.google.com/spreadsheets/d/1ZutzQ3v1OJgsgzCvCwxXlRIQ3ChXNlHNvB63JQvYsbo/edit?usp=sharing\n",
        "\n",
        ">\n",
        "\n",
        "**IMPORTANTE:** É obrigatório usar o e-mail da UFABC.\n",
        "\n",
        ">\n",
        "\n",
        "\n",
        "**DICA:** Por favor, insira o seu nome ou da sua equipe na ordem definida na planilha. Por exemplo, se a linha correspondente ao o GRUPO 5 já foi preenchida, a próxima equipe (GRUPO 6) deverá ser informada na próxima linha da planilha.\n",
        "\n"
      ],
      "metadata": {
        "id": "fXTwkiiGs2BV"
      }
    },
    {
      "cell_type": "markdown",
      "source": [
        "### **TIPOS DE ERROS**\n",
        "---\n"
      ],
      "metadata": {
        "id": "eD_AJQhrwJQ6"
      }
    },
    {
      "cell_type": "markdown",
      "source": [
        "**IMPORTANTE**: consulta feita no ChatGPT\n",
        ">\n",
        "\n",
        "Um `programa Python` que utilize `expressões regulares` pode ajudar a identificar vários **tipos de erros** comuns em **livros**, especialmente erros de formatação e problemas relacionados à consistência do texto. Aqui estão alguns exemplos de erros comuns que podem ser identificados usando expressões regulares:\n",
        "\n",
        "* Erros de gramática e ortografia: erros de digitação, concordância verbal e nominal, uso incorreto de pontuação e outros erros gramaticais.\n",
        "\n",
        "* Problemas de formatação: você pode usar expressões regulares para encontrar erros de formatação, como espaços em excesso, tabulações inadequadas ou alinhamentos inconsistentes.\n",
        "\n",
        "* Abreviações e acrônimos: você pode usar expressões regulares para encontrar abreviações ou acrônimos que não foram definidos ou explicados anteriormente no texto.\n",
        "\n",
        "* Citações e referências: expressões regulares podem ser úteis para localizar citações ou referências que precisam de formatação especial.\n",
        "\n",
        "* OUTROS TIPOS DE ERROS: não considerem apenas os tipos de erros citados acima.\n",
        "\n",
        "\n",
        "**IMPORTANTE:** Lembre-se de que expressões regulares podem ser poderosas, mas também complexas. Dependendo da complexidade dos erros que você deseja identificar, pode ser necessário ajustar as expressões regulares de acordo com as características específicas do seu texto. Além disso, é importante ter em mente que as expressões regulares podem não ser a melhor ferramenta para todos os tipos de erros em livros, especialmente problemas mais contextuais ou semânticos, que podem exigir abordagens de PLN mais avançadas.\n",
        "\n",
        "\n",
        "\n"
      ],
      "metadata": {
        "id": "gz0DTI0KYmn6"
      }
    },
    {
      "cell_type": "markdown",
      "source": [
        "### **CRITÉRIOS DE AVALIAÇÃO**\n",
        "---\n"
      ],
      "metadata": {
        "id": "gWsBYQNtxmum"
      }
    },
    {
      "cell_type": "markdown",
      "source": [
        "A equipe que **realizar mais testes** e/ou **identificar mais erros** terá o peso diminuido na AVALIAÇÃO (Prova Escrita) em **25%** (caindo de 40 para 30). Os testes e possíveis erros devem ser contabizados de maneira separada.\n",
        "\n",
        ">\n",
        "\n",
        "Além disso, **por se tratar de um livro**, há um teste importante que deve ser feito. Lembre-se que o teste deve ser feito utilizando expressões regulares. A equipe que realizar esse teste, mesmo que o erro não ocorra nos capítulos selecionados, terá o peso diminuido na AVALIAÇÃO (Prova Escrita) em **25%** (caindo de 40 para 30).\n",
        "\n",
        "> A equipe pode considerar outros capítulos do livro para tentar identificar esse tipo de erro.\n",
        "\n",
        "**Se for a mesma equipe, o peso da avaliação será reduzido em 50% (caindo de 40 para 20)**.\n",
        "\n",
        ">\n",
        "\n",
        "**IMPORTANTE**: a diminuição no peso da AVALIAÇÃO será aplicado para todos os membros da equipe. Esse critério será aplicado apenas para uma equipe, considerando como critério de desempate a equipe que entregar primeiro a atividade no formulário.\n",
        "\n",
        "\n",
        "\n"
      ],
      "metadata": {
        "id": "5iHdx4BXYruQ"
      }
    },
    {
      "cell_type": "markdown",
      "source": [
        "### **IMPLEMENTAÇÃO**\n",
        "---"
      ],
      "metadata": {
        "id": "nw09lujGvfjc"
      }
    },
    {
      "cell_type": "code",
      "source": [
        "# por favor, inserir o código a partir daqui...\n",
        "\n",
        "# IMPORTAÇÃO DAS BIBLIOTECAS\n",
        "import requests\n",
        "import re\n",
        "from bs4 import BeautifulSoup\n",
        "import unicodedata"
      ],
      "metadata": {
        "id": "RyUailD5vi9E"
      },
      "execution_count": null,
      "outputs": []
    },
    {
      "cell_type": "code",
      "source": [
        "# FUNÇÕES DE REQUISIÇÃO, TRATAMENTO DO TEXTO E BUSCA POR ERROS\n",
        "def obter_texto_da_url(url):\n",
        "    try:\n",
        "        resposta = requests.get(url)\n",
        "        resposta.raise_for_status()\n",
        "        resposta.encoding = resposta.apparent_encoding  # Ajusta a codificação\n",
        "        return resposta.text\n",
        "    except requests.exceptions.HTTPError as err:\n",
        "        raise SystemExit(err)\n",
        "\n",
        "def extrair_texto_html(html):\n",
        "    soup = BeautifulSoup(html, 'html.parser')\n",
        "    elementos = soup.select('main p, main ol, main ul')\n",
        "    texto = ''\n",
        "    for elemento in elementos:\n",
        "        texto += elemento.get_text() + '\\n'\n",
        "    return texto\n",
        "\n",
        "def encontrar_erros_no_texto(texto):\n",
        "    erros = {\n",
        "        'Erros de Ortografia': [],\n",
        "        'Uso Incorreto de Maiúsculas e Minúsculas': [],\n",
        "        'Concordância Nominal': [],\n",
        "        'Concordância Verbal': [],\n",
        "        'Abreviações e Acrônimos': [],\n",
        "        'Problemas de Formatação': [],\n",
        "        'Números Mal Formados': [],\n",
        "        'Datas Mal Formadas': [],\n",
        "        'Pontuação Mal Colocada': []\n",
        "    }\n",
        "\n",
        "    # Expressões regulares para encontrar os tipos de erros desejados\n",
        "    expressoes = [\n",
        "        r'\\b(\\w+)\\b\\s+\\1\\b',  # Erros de ortografia (Palavras repetidas em sequência)\n",
        "        r'\\b[A-Z][a-zA-Z]*[a-z]+\\b',  # Uso incorreto de maiúsculas/minúsculas\n",
        "        r'\\b[a-z]+\\b\\s+[A-Za-z]+s\\b',  # Concordância nominal\n",
        "        r'\\b[A-Za-z]+s\\b\\s+[a-z]+\\b',  # Concordância verbal\n",
        "        r'\\b[A-Z]{2,}\\b',  # Abreviações e Acrônimos (duas letras maiúsculas ou mais)\n",
        "        r'\\s{2,}'  # Problemas de Formatação (dois ou mais espaços em sequência)\n",
        "        r'\\b\\d{1,3}(?:,\\d{3})*(?:\\.\\d+)?\\b',  # Números Mal Formados\n",
        "        r'\\b\\d{1,2}[/]\\d{1,2}[/]\\d{2,4}\\b',  # Datas Mal Formadas (formato dd/mm/aaaa)\n",
        "        r'\\b\\w+\\s*[\\.,;?!]+\\s*\\w+' # Pontuação Mal Colocada\n",
        "    ]\n",
        "\n",
        "    for expressao in expressoes:\n",
        "        padrao = re.compile(expressao, re.UNICODE)\n",
        "        matches = padrao.finditer(texto)\n",
        "        for match in matches:\n",
        "            for i, grupo in enumerate(match.groups()):\n",
        "                if list(erros.keys())[i] == 'Erros de Ortografia':\n",
        "                    erros[list(erros.keys())[i]].append(f\"{grupo} {grupo}\")\n",
        "                else:\n",
        "                    erros[list(erros.keys())[i]].append(f\"{grupo}\")\n",
        "\n",
        "    return erros"
      ],
      "metadata": {
        "id": "iIu9QqnSg2Iw"
      },
      "execution_count": null,
      "outputs": []
    },
    {
      "cell_type": "code",
      "source": [
        "# EXECUÇÃO DOS TESTES\n",
        "url_capitulos = [\"https://brasileiraspln.com/livro-pln/1a-edicao/parte2/cap3/cap3.html\", \"https://brasileiraspln.com/livro-pln/1a-edicao/parte9/cap23/cap23.html\"]\n",
        "for url in url_capitulos:\n",
        "\n",
        "    texto_html = obter_texto_da_url(url)\n",
        "\n",
        "    texto_limpo = extrair_texto_html(texto_html)\n",
        "\n",
        "    erros = encontrar_erros_no_texto(texto_limpo)\n",
        "\n",
        "    capitulo = url.split(\"/\")[-1].replace(\".html\", \"\")\n",
        "\n",
        "    print(f\"Quantidade de erros por tipo no {capitulo}:\")\n",
        "\n",
        "    check_erros = False\n",
        "    for tipo, lista_erros in erros.items():\n",
        "        print(f\"{tipo}: {len(lista_erros)}\")\n",
        "        if len(lista_erros)>0:\n",
        "          check_erros = True\n",
        "\n",
        "    if check_erros:\n",
        "        print(f\"\\nErros encontrados no {capitulo}:\")\n",
        "        for tipo, lista_erros in erros.items():\n",
        "            for erro in lista_erros:\n",
        "                print(f\"{tipo}: {erro}\")\n",
        "    print(\"-------------------------------------------\\n\")"
      ],
      "metadata": {
        "colab": {
          "base_uri": "https://localhost:8080/"
        },
        "id": "mJFpEQdPg_w6",
        "outputId": "4c5cda38-7db5-44fc-e966-0006f5e4a340"
      },
      "execution_count": null,
      "outputs": [
        {
          "output_type": "stream",
          "name": "stdout",
          "text": [
            "Quantidade de erros por tipo no cap3:\n",
            "Erros de Ortografia: 2\n",
            "Uso Incorreto de Maiúsculas e Minúsculas: 0\n",
            "Concordância Nominal: 0\n",
            "Concordância Verbal: 0\n",
            "Abreviações e Acrônimos: 0\n",
            "Problemas de Formatação: 0\n",
            "Números Mal Formados: 0\n",
            "Datas Mal Formadas: 0\n",
            "Pontuação Mal Colocada: 0\n",
            "\n",
            "Erros encontrados no cap3:\n",
            "Erros de Ortografia: onde onde\n",
            "Erros de Ortografia: foi foi\n",
            "-------------------------------------------\n",
            "\n",
            "Quantidade de erros por tipo no cap23:\n",
            "Erros de Ortografia: 0\n",
            "Uso Incorreto de Maiúsculas e Minúsculas: 0\n",
            "Concordância Nominal: 0\n",
            "Concordância Verbal: 0\n",
            "Abreviações e Acrônimos: 0\n",
            "Problemas de Formatação: 0\n",
            "Números Mal Formados: 0\n",
            "Datas Mal Formadas: 0\n",
            "Pontuação Mal Colocada: 0\n",
            "-------------------------------------------\n",
            "\n"
          ]
        }
      ]
    }
  ]
}